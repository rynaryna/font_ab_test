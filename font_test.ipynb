{
 "cells": [
  {
   "cell_type": "markdown",
   "id": "cef8a96c",
   "metadata": {},
   "source": [
    "## Тестирование нового шрифта.\n",
    "В проекте будет исследоваться воронка событий и результаты А/А/В-эксперимента. Группы 246 и 247 - контрольные, 248 - тестовая. Есть 5 видов событий, для каждого имеется номер устройства, время события и группа.\n",
    "\n",
    "А/А/В-тест должен будет подтвердить или опровергнуть различие в отношениях количества пользователей, совершивших событие, к общему количеству пользователей. Для этого будет использоваться Z-критерий.\n",
    "\n",
    "В ходе исследования будут проведены подготовка и изучение данных, будет проверена корректность работы механизмов и  проведен А/А-тест, и после его успешного завершения будет произведен А/В-тест."
   ]
  },
  {
   "cell_type": "markdown",
   "id": "050d2711",
   "metadata": {},
   "source": [
    "## План работы.\n",
    "\n",
    "1. [Открытие файлов](#download)\n",
    "2. [Предобработка данных](#preprocessing)\n",
    "3. [Анализ данных](#analysis)\n",
    "4. [Изучение воронки событий](#funnel-analysis)\n",
    "5. [Проведение А/В-теста](#ab-test)\n",
    "6. [Результаты исследования и рекомендации](#ending)"
   ]
  },
  {
   "cell_type": "code",
   "execution_count": 73,
   "id": "d6573fba",
   "metadata": {},
   "outputs": [],
   "source": [
    "import numpy as np\n",
    "import pandas as pd\n",
    "import scipy.stats as st\n",
    "import datetime\n",
    "import matplotlib.pyplot as plt\n",
    "import seaborn as sns\n",
    "import plotly.express as px\n",
    "import plotly.graph_objects as go\n",
    "\n",
    "%matplotlib inline\n",
    "\n",
    "plt.style.use('seaborn')"
   ]
  },
  {
   "cell_type": "code",
   "execution_count": 37,
   "id": "8cbe8fda",
   "metadata": {},
   "outputs": [],
   "source": [
    "params = {'axes.titlesize': 15,\n",
    "          'axes.labelsize': 13\n",
    "         }\n",
    "\n",
    "plt.rcParams.update(params)"
   ]
  },
  {
   "cell_type": "markdown",
   "id": "6012d5ec",
   "metadata": {},
   "source": [
    "Для работы нам понадобятся следующие функции."
   ]
  },
  {
   "cell_type": "code",
   "execution_count": 59,
   "id": "f4b5fdd6",
   "metadata": {},
   "outputs": [],
   "source": [
    "def get_grouped_data(data, group_column, value_column, rename_column='amount', aggfunc='count'):\n",
    "    ''' Возвращает сгруппированные данные'''\n",
    "    return (data.groupby(group_column, as_index=False) # группировка\n",
    "            .agg({value_column: aggfunc}) # применение фукнции к столбцу\n",
    "            .sort_values(by=value_column, ascending=False)\n",
    "            .rename(columns={value_column: rename_column})\n",
    "           )\n",
    "\n",
    "def plot_bar(data, x, y, xticks_rotation=0, ax=None):\n",
    "    '''Возвращает столбчатую диаграмму по данным data,\n",
    "       где x и y - столбцы, по которым строится диаграмма,\n",
    "       '''\n",
    "\n",
    "    ax = sns.barplot(data=data, x=x, y=y, ax=ax)\n",
    "    \n",
    "    for tick in ax.get_xticklabels(): # поварачиваем метки оси абсцисс на графике\n",
    "        tick.set(rotation=xticks_rotation, ha='left') \n",
    "    return ax"
   ]
  },
  {
   "cell_type": "markdown",
   "id": "918fc756",
   "metadata": {},
   "source": [
    "#### Шаг 1. Открытие файла и общая информация. <a class='anchor' id='download'></a>"
   ]
  },
  {
   "cell_type": "code",
   "execution_count": 5,
   "id": "2fd4b3d6",
   "metadata": {},
   "outputs": [
    {
     "data": {
      "text/html": [
       "<div>\n",
       "<style scoped>\n",
       "    .dataframe tbody tr th:only-of-type {\n",
       "        vertical-align: middle;\n",
       "    }\n",
       "\n",
       "    .dataframe tbody tr th {\n",
       "        vertical-align: top;\n",
       "    }\n",
       "\n",
       "    .dataframe thead th {\n",
       "        text-align: right;\n",
       "    }\n",
       "</style>\n",
       "<table border=\"1\" class=\"dataframe\">\n",
       "  <thead>\n",
       "    <tr style=\"text-align: right;\">\n",
       "      <th></th>\n",
       "      <th>EventName</th>\n",
       "      <th>DeviceIDHash</th>\n",
       "      <th>EventTimestamp</th>\n",
       "      <th>ExpId</th>\n",
       "    </tr>\n",
       "  </thead>\n",
       "  <tbody>\n",
       "    <tr>\n",
       "      <th>170274</th>\n",
       "      <td>MainScreenAppear</td>\n",
       "      <td>6754200723710620075</td>\n",
       "      <td>1565025985</td>\n",
       "      <td>246</td>\n",
       "    </tr>\n",
       "    <tr>\n",
       "      <th>71424</th>\n",
       "      <td>MainScreenAppear</td>\n",
       "      <td>6332565246182501322</td>\n",
       "      <td>1564774405</td>\n",
       "      <td>248</td>\n",
       "    </tr>\n",
       "    <tr>\n",
       "      <th>138612</th>\n",
       "      <td>CartScreenAppear</td>\n",
       "      <td>6234930871538147758</td>\n",
       "      <td>1564947901</td>\n",
       "      <td>247</td>\n",
       "    </tr>\n",
       "  </tbody>\n",
       "</table>\n",
       "</div>"
      ],
      "text/plain": [
       "               EventName         DeviceIDHash  EventTimestamp  ExpId\n",
       "170274  MainScreenAppear  6754200723710620075      1565025985    246\n",
       "71424   MainScreenAppear  6332565246182501322      1564774405    248\n",
       "138612  CartScreenAppear  6234930871538147758      1564947901    247"
      ]
     },
     "execution_count": 5,
     "metadata": {},
     "output_type": "execute_result"
    }
   ],
   "source": [
    "path = ''\n",
    "logs = pd.read_csv(path + 'logs_exp.csv', delimiter='\\t') # считываем данные, разделитель - символ табуляции\n",
    "logs.sample(3) # 5 случайных событий"
   ]
  },
  {
   "cell_type": "code",
   "execution_count": 6,
   "id": "02dedd8e",
   "metadata": {},
   "outputs": [
    {
     "name": "stdout",
     "output_type": "stream",
     "text": [
      "<class 'pandas.core.frame.DataFrame'>\n",
      "RangeIndex: 244126 entries, 0 to 244125\n",
      "Data columns (total 4 columns):\n",
      " #   Column          Non-Null Count   Dtype \n",
      "---  ------          --------------   ----- \n",
      " 0   EventName       244126 non-null  object\n",
      " 1   DeviceIDHash    244126 non-null  int64 \n",
      " 2   EventTimestamp  244126 non-null  int64 \n",
      " 3   ExpId           244126 non-null  int64 \n",
      "dtypes: int64(3), object(1)\n",
      "memory usage: 7.5+ MB\n"
     ]
    }
   ],
   "source": [
    "logs.info() # выводим информацию о данных"
   ]
  },
  {
   "cell_type": "markdown",
   "id": "5d17bd06",
   "metadata": {},
   "source": [
    "Мы располагаем данными о 244 тысячах событий, для каждого события в таблице есть название, хеш устройства, дата и группа. Дата представлена в виде количества секунд."
   ]
  },
  {
   "cell_type": "markdown",
   "id": "f260f9a1",
   "metadata": {},
   "source": [
    "#### Шаг 2. Предобработка данных. <a class='anchor' id='preprocessing'></a>\n",
    "\n",
    "Подготовим данные для анализа. Для этого переименуем столбцы, удалим пропуски, переведем время в читаемый тип, а также добавим столбец с датой события."
   ]
  },
  {
   "cell_type": "code",
   "execution_count": 8,
   "id": "2cff9eb4",
   "metadata": {},
   "outputs": [],
   "source": [
    "logs = logs.rename(columns={'EventName': 'event_name',\n",
    "                            'DeviceIDHash': 'device_id',\n",
    "                            'EventTimestamp': 'event_timestamp',\n",
    "                            'ExpId': 'exp_id'\n",
    "                           }\n",
    "                  )"
   ]
  },
  {
   "cell_type": "code",
   "execution_count": 7,
   "id": "3da003f5",
   "metadata": {},
   "outputs": [
    {
     "data": {
      "text/plain": [
       "EventName         0\n",
       "DeviceIDHash      0\n",
       "EventTimestamp    0\n",
       "ExpId             0\n",
       "dtype: int64"
      ]
     },
     "execution_count": 7,
     "metadata": {},
     "output_type": "execute_result"
    }
   ],
   "source": [
    "logs.isna().sum() # количество пропусков"
   ]
  },
  {
   "cell_type": "markdown",
   "id": "163153bd",
   "metadata": {},
   "source": [
    "Пропусков в данных нет."
   ]
  },
  {
   "cell_type": "code",
   "execution_count": 9,
   "id": "297ef20e",
   "metadata": {},
   "outputs": [
    {
     "data": {
      "text/plain": [
       "413"
      ]
     },
     "execution_count": 9,
     "metadata": {},
     "output_type": "execute_result"
    }
   ],
   "source": [
    "logs.duplicated().sum() # количество дубликатов"
   ]
  },
  {
   "cell_type": "markdown",
   "id": "ae4d9a39",
   "metadata": {},
   "source": [
    "В данных более 400 дубликатов. Это несколько одинаковых событий с одного устройства, произошедшие в одно время в точности до секунды. Посмотрим, что это за события."
   ]
  },
  {
   "cell_type": "code",
   "execution_count": 10,
   "id": "835ae407",
   "metadata": {},
   "outputs": [
    {
     "data": {
      "text/plain": [
       "array(['MainScreenAppear', 'CartScreenAppear', 'PaymentScreenSuccessful',\n",
       "       'OffersScreenAppear', 'Tutorial'], dtype=object)"
      ]
     },
     "execution_count": 10,
     "metadata": {},
     "output_type": "execute_result"
    }
   ],
   "source": [
    "logs[logs.duplicated()]['event_name'].unique()"
   ]
  },
  {
   "cell_type": "markdown",
   "id": "4fd1495b",
   "metadata": {},
   "source": [
    "В каждом событии есть дубликаты. Наврятли они являются чем-то иным, кроме технической ошибки, значит от дубликатов можно избавиться."
   ]
  },
  {
   "cell_type": "code",
   "execution_count": 12,
   "id": "2cea9e1f",
   "metadata": {},
   "outputs": [],
   "source": [
    "logs = logs.drop_duplicates(ignore_index=True) # удаляем дубликаты"
   ]
  },
  {
   "cell_type": "markdown",
   "id": "a4ff9884",
   "metadata": {},
   "source": [
    "Изменим типы данных, где необходимо."
   ]
  },
  {
   "cell_type": "code",
   "execution_count": 13,
   "id": "428e036a",
   "metadata": {},
   "outputs": [
    {
     "data": {
      "text/plain": [
       "event_name         object\n",
       "device_id           int64\n",
       "event_timestamp     int64\n",
       "exp_id              int64\n",
       "dtype: object"
      ]
     },
     "execution_count": 13,
     "metadata": {},
     "output_type": "execute_result"
    }
   ],
   "source": [
    "logs.dtypes # типы данных"
   ]
  },
  {
   "cell_type": "markdown",
   "id": "6bd60e63",
   "metadata": {},
   "source": [
    "Столбец с временем содержит количество секунд. Следует перевести их в дату и время. Для остальных столбцов никаких преобразований не требуется."
   ]
  },
  {
   "cell_type": "code",
   "execution_count": 15,
   "id": "c872e365",
   "metadata": {},
   "outputs": [
    {
     "data": {
      "text/plain": [
       "144724   2019-08-05 06:24:06\n",
       "158581   2019-08-05 13:16:50\n",
       "163624   2019-08-05 15:09:04\n",
       "58749    2019-08-02 13:39:31\n",
       "81110    2019-08-03 08:20:53\n",
       "Name: event_timestamp, dtype: datetime64[ns]"
      ]
     },
     "execution_count": 15,
     "metadata": {},
     "output_type": "execute_result"
    }
   ],
   "source": [
    "logs['event_timestamp'] = pd.to_datetime(logs['event_timestamp'],\n",
    "                                         origin='unix', unit='s'\n",
    "                                        ) # переводим секунды в дату и время\n",
    "logs['event_timestamp'].sample(5)"
   ]
  },
  {
   "cell_type": "markdown",
   "id": "4f0fbdcb",
   "metadata": {},
   "source": [
    "Также нам будут необходимы даты событий."
   ]
  },
  {
   "cell_type": "code",
   "execution_count": 16,
   "id": "6a2eacf0",
   "metadata": {},
   "outputs": [
    {
     "data": {
      "text/html": [
       "<div>\n",
       "<style scoped>\n",
       "    .dataframe tbody tr th:only-of-type {\n",
       "        vertical-align: middle;\n",
       "    }\n",
       "\n",
       "    .dataframe tbody tr th {\n",
       "        vertical-align: top;\n",
       "    }\n",
       "\n",
       "    .dataframe thead th {\n",
       "        text-align: right;\n",
       "    }\n",
       "</style>\n",
       "<table border=\"1\" class=\"dataframe\">\n",
       "  <thead>\n",
       "    <tr style=\"text-align: right;\">\n",
       "      <th></th>\n",
       "      <th>event_name</th>\n",
       "      <th>device_id</th>\n",
       "      <th>event_timestamp</th>\n",
       "      <th>exp_id</th>\n",
       "      <th>event_date</th>\n",
       "    </tr>\n",
       "  </thead>\n",
       "  <tbody>\n",
       "    <tr>\n",
       "      <th>86428</th>\n",
       "      <td>PaymentScreenSuccessful</td>\n",
       "      <td>377428696293052237</td>\n",
       "      <td>2019-08-03 10:51:19</td>\n",
       "      <td>248</td>\n",
       "      <td>2019-08-03</td>\n",
       "    </tr>\n",
       "    <tr>\n",
       "      <th>181460</th>\n",
       "      <td>OffersScreenAppear</td>\n",
       "      <td>184986614767762738</td>\n",
       "      <td>2019-08-06 06:04:47</td>\n",
       "      <td>248</td>\n",
       "      <td>2019-08-06</td>\n",
       "    </tr>\n",
       "    <tr>\n",
       "      <th>62074</th>\n",
       "      <td>MainScreenAppear</td>\n",
       "      <td>299409047914517767</td>\n",
       "      <td>2019-08-02 15:04:20</td>\n",
       "      <td>248</td>\n",
       "      <td>2019-08-02</td>\n",
       "    </tr>\n",
       "    <tr>\n",
       "      <th>94553</th>\n",
       "      <td>PaymentScreenSuccessful</td>\n",
       "      <td>4276715305122105458</td>\n",
       "      <td>2019-08-03 14:14:55</td>\n",
       "      <td>246</td>\n",
       "      <td>2019-08-03</td>\n",
       "    </tr>\n",
       "    <tr>\n",
       "      <th>108017</th>\n",
       "      <td>MainScreenAppear</td>\n",
       "      <td>2415188714574108464</td>\n",
       "      <td>2019-08-04 01:26:02</td>\n",
       "      <td>247</td>\n",
       "      <td>2019-08-04</td>\n",
       "    </tr>\n",
       "  </tbody>\n",
       "</table>\n",
       "</div>"
      ],
      "text/plain": [
       "                     event_name            device_id     event_timestamp  \\\n",
       "86428   PaymentScreenSuccessful   377428696293052237 2019-08-03 10:51:19   \n",
       "181460       OffersScreenAppear   184986614767762738 2019-08-06 06:04:47   \n",
       "62074          MainScreenAppear   299409047914517767 2019-08-02 15:04:20   \n",
       "94553   PaymentScreenSuccessful  4276715305122105458 2019-08-03 14:14:55   \n",
       "108017         MainScreenAppear  2415188714574108464 2019-08-04 01:26:02   \n",
       "\n",
       "        exp_id  event_date  \n",
       "86428      248  2019-08-03  \n",
       "181460     248  2019-08-06  \n",
       "62074      248  2019-08-02  \n",
       "94553      246  2019-08-03  \n",
       "108017     247  2019-08-04  "
      ]
     },
     "execution_count": 16,
     "metadata": {},
     "output_type": "execute_result"
    }
   ],
   "source": [
    "logs['event_date'] = logs['event_timestamp'].dt.date # извлекаем дату\n",
    "logs.sample(5)"
   ]
  },
  {
   "cell_type": "markdown",
   "id": "65f76d9e",
   "metadata": {},
   "source": [
    "##### Промежуточный вывод: \n",
    "\n",
    "В данных нет пропущенных значений, но есть дубликаты. Также было необходимо изменить тип данных для времени события и извлечь дату события."
   ]
  },
  {
   "cell_type": "markdown",
   "id": "3f7057de",
   "metadata": {},
   "source": [
    "#### Шаг 3. Анализ данных. <a class='anchor' id='analysis'></a>\n",
    "\n",
    "Посмотрим на временной промежуток теста, количество пользователей и событий. У нас имеется информация о следующих событиях:"
   ]
  },
  {
   "cell_type": "code",
   "execution_count": 17,
   "id": "7a1af797",
   "metadata": {
    "scrolled": true
   },
   "outputs": [
    {
     "data": {
      "text/plain": [
       "array(['MainScreenAppear', 'PaymentScreenSuccessful', 'CartScreenAppear',\n",
       "       'OffersScreenAppear', 'Tutorial'], dtype=object)"
      ]
     },
     "execution_count": 17,
     "metadata": {},
     "output_type": "execute_result"
    }
   ],
   "source": [
    "logs['event_name'].unique() # уникальные названия событий"
   ]
  },
  {
   "cell_type": "markdown",
   "id": "e278c167",
   "metadata": {},
   "source": [
    "Событиями являются просмотр главной страницы, успешная оплата, просмотр страницы карзины, страницы предложения и страницы обучения. Теперь посмотрим на группы, учавствовавшие в тесте. "
   ]
  },
  {
   "cell_type": "code",
   "execution_count": 13,
   "id": "6cca8b18",
   "metadata": {},
   "outputs": [
    {
     "data": {
      "text/plain": [
       "array([246, 248, 247], dtype=int64)"
      ]
     },
     "execution_count": 13,
     "metadata": {},
     "output_type": "execute_result"
    }
   ],
   "source": [
    "logs['exp_id'].unique() # группы"
   ]
  },
  {
   "cell_type": "markdown",
   "id": "9abae3fc",
   "metadata": {},
   "source": [
    "У нас 3 группы, 2 контрольные - 246 и 247, и одна тестовая - 248."
   ]
  },
  {
   "cell_type": "code",
   "execution_count": 20,
   "id": "b8caf11c",
   "metadata": {},
   "outputs": [
    {
     "name": "stdout",
     "output_type": "stream",
     "text": [
      "Всего событий в логе - 243713.\n",
      "Всего пользователей в логе - 7551.\n",
      "В среднем пользователь совершает 32.28 событий.\n",
      "В данных данные о событиях с 2019-07-25 по 2019-08-07.\n",
      "Тест продолжался 13 дней.\n"
     ]
    }
   ],
   "source": [
    "print(f'Всего событий в логе - {logs[\"event_name\"].count()}.')\n",
    "print(f'Всего пользователей в логе - {logs[\"device_id\"].nunique()}.')\n",
    "\n",
    "mean_events_by_user = logs['event_name'].count() / logs['device_id'].nunique()\n",
    "print(f'В среднем пользователь совершает {mean_events_by_user:.2f} событий.')\n",
    "\n",
    "print(f'В данных данные о событиях с {logs[\"event_date\"].min()} по {logs[\"event_date\"].max()}.')\n",
    "\n",
    "test_duration = (logs['event_date'].max() - logs['event_date'].min()).days # длительность теста в днях\n",
    "print(f'Тест продолжался {test_duration} дней.')"
   ]
  },
  {
   "cell_type": "markdown",
   "id": "008a1180",
   "metadata": {},
   "source": [
    "Посмотрим на распределение количество событий по пользователям."
   ]
  },
  {
   "cell_type": "code",
   "execution_count": 38,
   "id": "983b7e2d",
   "metadata": {},
   "outputs": [
    {
     "data": {
      "image/png": "[encoded data removed]",
      "text/plain": [
       "<Figure size 800x550 with 1 Axes>"
      ]
     },
     "metadata": {},
     "output_type": "display_data"
    }
   ],
   "source": [
    "events_by_user = get_grouped_data(logs, group_column='device_id', value_column='event_name')\n",
    "\n",
    "ax = sns.histplot(events_by_user['amount'])\n",
    "\n",
    "ax.set(title='Распределение количества событий на пользователя',\n",
    "       xlabel='Количество событий', ylabel='Количество пользователей'\n",
    "      )\n",
    "plt.show()"
   ]
  },
  {
   "cell_type": "markdown",
   "id": "ac1e4304",
   "metadata": {},
   "source": [
    "Пользователи с более 2 тысячами событий смещают график влево. Исключим их и посмотрим на оставшихся."
   ]
  },
  {
   "cell_type": "code",
   "execution_count": 45,
   "id": "21b963a2",
   "metadata": {},
   "outputs": [
    {
     "data": {
      "image/png": "[encoded data removed]",
      "text/plain": [
       "<Figure size 800x550 with 1 Axes>"
      ]
     },
     "metadata": {},
     "output_type": "display_data"
    }
   ],
   "source": [
    "ax = sns.histplot(events_by_user['amount'])\n",
    "\n",
    "ax.set(title='Распределение количества событий на пользователя',\n",
    "       xlabel='Количество событий', ylabel='Количество пользователей'\n",
    "      )\n",
    "\n",
    "plt.xlim(0, 100)\n",
    "plt.show()"
   ]
  },
  {
   "cell_type": "markdown",
   "id": "293cd16c",
   "metadata": {},
   "source": [
    "Построим гистограмму по дате и времени. Количество столбцов поставим 312, по 24 на каждый день."
   ]
  },
  {
   "cell_type": "code",
   "execution_count": 46,
   "id": "34f35bf1",
   "metadata": {},
   "outputs": [
    {
     "data": {
      "image/png": "[encoded data removed]",
      "text/plain": [
       "<Figure size 600x600 with 1 Axes>"
      ]
     },
     "metadata": {},
     "output_type": "display_data"
    }
   ],
   "source": [
    "plt.figure(figsize=(6, 6))\n",
    "ax = sns.histplot(logs.event_timestamp, bins=312) \n",
    "\n",
    "ax.set(title='Количество событий по датам',\n",
    "       xlabel='Дата', ylabel='Количество событий'\n",
    "      )\n",
    "\n",
    "plt.xticks(rotation=-45, ha='left') # поворот дат для удобочитаемости\n",
    "plt.show()"
   ]
  },
  {
   "cell_type": "markdown",
   "id": "b755f7a0",
   "metadata": {},
   "source": [
    "На графике видно, что событий в июле почти нет, а с августа их количество поднимается до 20 тысяч, поэтому актуальным периодом можно обозначить с 1 по 7 августа 2019 года, более ранние даты можно отбросить."
   ]
  },
  {
   "cell_type": "code",
   "execution_count": 49,
   "id": "f2c8e452",
   "metadata": {},
   "outputs": [],
   "source": [
    "logs = logs.query('event_date >= datetime.date(2019, 8, 1)') # все даты равные или позднее 1-го августа 2019 года."
   ]
  },
  {
   "cell_type": "code",
   "execution_count": 50,
   "id": "c36deef6",
   "metadata": {},
   "outputs": [
    {
     "name": "stdout",
     "output_type": "stream",
     "text": [
      "Событий в логе после удаления старых данных - 240887.\n",
      "Это 98.84% от всех событий.\n",
      "\n",
      "Всего пользователей в логе после удаления старых данных - 7534.\n",
      "Это 99.77% от всех пользователей.\n"
     ]
    }
   ],
   "source": [
    "print(f'Событий в логе после удаления старых данных - {logs[\"event_name\"].count()}.')\n",
    "\n",
    "print(f'Это {logs[\"event_name\"].count() / 243713:.2%} от всех событий.')\n",
    "\n",
    "print(f'\\nВсего пользователей в логе после удаления старых данных - {logs[\"device_id\"].nunique()}.')\n",
    "\n",
    "print(f'Это {logs[\"device_id\"].nunique() / 7551:.2%} от всех пользователей.')"
   ]
  },
  {
   "cell_type": "markdown",
   "id": "e6c7e1b9",
   "metadata": {},
   "source": [
    "Мы избавились всего от менее 1.2% событий и от менее 0.3% пользователей. Теперь проверим экспериментальные группы."
   ]
  },
  {
   "cell_type": "code",
   "execution_count": 51,
   "id": "498ae12e",
   "metadata": {},
   "outputs": [
    {
     "data": {
      "text/plain": [
       "exp_id\n",
       "246    2484\n",
       "247    2513\n",
       "248    2537\n",
       "Name: device_id, dtype: int64"
      ]
     },
     "execution_count": 51,
     "metadata": {},
     "output_type": "execute_result"
    }
   ],
   "source": [
    "logs.groupby('exp_id')['device_id'].nunique() # количество пользователей в группе"
   ]
  },
  {
   "cell_type": "markdown",
   "id": "365ba100",
   "metadata": {},
   "source": [
    "Имеется по 2.5 тысячи пользователей с каждой группы. Проверим, есть ли те, кого определили в несколько групп."
   ]
  },
  {
   "cell_type": "code",
   "execution_count": 53,
   "id": "309d378b",
   "metadata": {},
   "outputs": [
    {
     "data": {
      "text/plain": [
       "1"
      ]
     },
     "execution_count": 53,
     "metadata": {},
     "output_type": "execute_result"
    }
   ],
   "source": [
    "(logs[['device_id', 'exp_id']].drop_duplicates() # оставляем только уникальные пары устройство - группа\n",
    " .groupby('device_id') # группируем по устройству\n",
    " ['device_id']\n",
    " .count() # для каждого устройства считаем количество групп, в которые он входит\n",
    " .max()) # выводим максимальное количество "
   ]
  },
  {
   "cell_type": "markdown",
   "id": "92ebaa35",
   "metadata": {},
   "source": [
    "Каждому устройству соответствует только одно экспериментальная группа."
   ]
  },
  {
   "cell_type": "markdown",
   "id": "f406f832",
   "metadata": {},
   "source": [
    "##### Промежуточный вывод: \n",
    "Пользователи могут совершить 5 событий, просмотреть главную страницу, страницу обучения, страницу предложения, страницу карзины и покупку. \n",
    "\n",
    "Всего около 244 тысяч событий и 7,5 тысяч пользователей за промежуток с 25 июля по 7 августа 2019 года, но предпочтительнее будет выбрать период теста с 1 по 7 августа, так как именно в этот период пользователи совершили более 98% событий.\n",
    "\n",
    "Экспериментальные группы разделены примерно поровну, по 2,5 тысяч пользователей, и среди них нет тех, кого отнесли к разным группам."
   ]
  },
  {
   "cell_type": "markdown",
   "id": "5763dce5",
   "metadata": {},
   "source": [
    "#### Шаг 4. Изучение воронки событий. <a class='anchor' id='funnel-analysis'></a>\n",
    "\n",
    "##### Частота событий."
   ]
  },
  {
   "cell_type": "code",
   "execution_count": 36,
   "id": "2e4ba93c",
   "metadata": {},
   "outputs": [
    {
     "data": {
      "text/plain": [
       "array(['Tutorial', 'MainScreenAppear', 'OffersScreenAppear',\n",
       "       'CartScreenAppear', 'PaymentScreenSuccessful'], dtype=object)"
      ]
     },
     "execution_count": 36,
     "metadata": {},
     "output_type": "execute_result"
    }
   ],
   "source": [
    "logs.event_name.unique() # все события"
   ]
  },
  {
   "cell_type": "markdown",
   "id": "99319f8d",
   "metadata": {},
   "source": [
    "Пользователи совершают просмотр главной страницы, страницы предложения, страницы карзины, покупку и обучение."
   ]
  },
  {
   "cell_type": "code",
   "execution_count": 54,
   "id": "02744934",
   "metadata": {},
   "outputs": [],
   "source": [
    "events_number = get_grouped_data(logs, group_column='event_name', value_column='device_id')"
   ]
  },
  {
   "cell_type": "code",
   "execution_count": 64,
   "id": "7670c9a9",
   "metadata": {},
   "outputs": [
    {
     "data": {
      "image/png": "[encoded data removed]",
      "text/plain": [
       "<Figure size 800x550 with 1 Axes>"
      ]
     },
     "metadata": {},
     "output_type": "display_data"
    }
   ],
   "source": [
    "ax = plot_bar(events_number,\n",
    "              x='amount', y='event_name'\n",
    "             )\n",
    "\n",
    "ax.set(title='Количество событий по типам',\n",
    "       xlabel='Количество событий', ylabel='Событие'\n",
    "      )\n",
    "\n",
    "plt.show()"
   ]
  },
  {
   "cell_type": "markdown",
   "id": "fca9ca97",
   "metadata": {},
   "source": [
    "Наиболее часто пользователи просматривают главную страница, меньше всего - проходят обучение.\n",
    "\n",
    "##### Сколько пользователей совершали события."
   ]
  },
  {
   "cell_type": "code",
   "execution_count": 79,
   "id": "16cd44e9",
   "metadata": {
    "scrolled": false
   },
   "outputs": [
    {
     "data": {
      "application/vnd.plotly.v1+json": {
       "config": {
        "plotlyServerURL": "https://plot.ly"
       },
       "data": [
        {
         "textinfo": "value+percent initial",
         "type": "funnel",
         "x": [
          7419,
          4593,
          3734,
          3539,
          840
         ],
         "y": [
          "MainScreenAppear",
          "OffersScreenAppear",
          "CartScreenAppear",
          "PaymentScreenSuccessful",
          "Tutorial"
         ]
        }
       ],
       "layout": {
        "template": {
         "data": {
          "bar": [
           {
            "error_x": {
             "color": "#2a3f5f"
            },
            "error_y": {
             "color": "#2a3f5f"
            },
            "marker": {
             "line": {
              "color": "#E5ECF6",
              "width": 0.5
             },
             "pattern": {
              "fillmode": "overlay",
              "size": 10,
              "solidity": 0.2
             }
            },
            "type": "bar"
           }
          ],
          "barpolar": [
           {
            "marker": {
             "line": {
              "color": "#E5ECF6",
              "width": 0.5
             },
             "pattern": {
              "fillmode": "overlay",
              "size": 10,
              "solidity": 0.2
             }
            },
            "type": "barpolar"
           }
          ],
          "carpet": [
           {
            "aaxis": {
             "endlinecolor": "#2a3f5f",
             "gridcolor": "white",
             "linecolor": "white",
             "minorgridcolor": "white",
             "startlinecolor": "#2a3f5f"
            },
            "baxis": {
             "endlinecolor": "#2a3f5f",
             "gridcolor": "white",
             "linecolor": "white",
             "minorgridcolor": "white",
             "startlinecolor": "#2a3f5f"
            },
            "type": "carpet"
           }
          ],
          "choropleth": [
           {
            "colorbar": {
             "outlinewidth": 0,
             "ticks": ""
            },
            "type": "choropleth"
           }
          ],
          "contour": [
           {
            "colorbar": {
             "outlinewidth": 0,
             "ticks": ""
            },
            "colorscale": [
             [
              0,
              "#0d0887"
             ],
             [
              0.1111111111111111,
              "#46039f"
             ],
             [
              0.2222222222222222,
              "#7201a8"
             ],
             [
              0.3333333333333333,
              "#9c179e"
             ],
             [
              0.4444444444444444,
              "#bd3786"
             ],
             [
              0.5555555555555556,
              "#d8576b"
             ],
             [
              0.6666666666666666,
              "#ed7953"
             ],
             [
              0.7777777777777778,
              "#fb9f3a"
             ],
             [
              0.8888888888888888,
              "#fdca26"
             ],
             [
              1,
              "#f0f921"
             ]
            ],
            "type": "contour"
           }
          ],
          "contourcarpet": [
           {
            "colorbar": {
             "outlinewidth": 0,
             "ticks": ""
            },
            "type": "contourcarpet"
           }
          ],
          "heatmap": [
           {
            "colorbar": {
             "outlinewidth": 0,
             "ticks": ""
            },
            "colorscale": [
             [
              0,
              "#0d0887"
             ],
             [
              0.1111111111111111,
              "#46039f"
             ],
             [
              0.2222222222222222,
              "#7201a8"
             ],
             [
              0.3333333333333333,
              "#9c179e"
             ],
             [
              0.4444444444444444,
              "#bd3786"
             ],
             [
              0.5555555555555556,
              "#d8576b"
             ],
             [
              0.6666666666666666,
              "#ed7953"
             ],
             [
              0.7777777777777778,
              "#fb9f3a"
             ],
             [
              0.8888888888888888,
              "#fdca26"
             ],
             [
              1,
              "#f0f921"
             ]
            ],
            "type": "heatmap"
           }
          ],
          "heatmapgl": [
           {
            "colorbar": {
             "outlinewidth": 0,
             "ticks": ""
            },
            "colorscale": [
             [
              0,
              "#0d0887"
             ],
             [
              0.1111111111111111,
              "#46039f"
             ],
             [
              0.2222222222222222,
              "#7201a8"
             ],
             [
              0.3333333333333333,
              "#9c179e"
             ],
             [
              0.4444444444444444,
              "#bd3786"
             ],
             [
              0.5555555555555556,
              "#d8576b"
             ],
             [
              0.6666666666666666,
              "#ed7953"
             ],
             [
              0.7777777777777778,
              "#fb9f3a"
             ],
             [
              0.8888888888888888,
              "#fdca26"
             ],
             [
              1,
              "#f0f921"
             ]
            ],
            "type": "heatmapgl"
           }
          ],
          "histogram": [
           {
            "marker": {
             "pattern": {
              "fillmode": "overlay",
              "size": 10,
              "solidity": 0.2
             }
            },
            "type": "histogram"
           }
          ],
          "histogram2d": [
           {
            "colorbar": {
             "outlinewidth": 0,
             "ticks": ""
            },
            "colorscale": [
             [
              0,
              "#0d0887"
             ],
             [
              0.1111111111111111,
              "#46039f"
             ],
             [
              0.2222222222222222,
              "#7201a8"
             ],
             [
              0.3333333333333333,
              "#9c179e"
             ],
             [
              0.4444444444444444,
              "#bd3786"
             ],
             [
              0.5555555555555556,
              "#d8576b"
             ],
             [
              0.6666666666666666,
              "#ed7953"
             ],
             [
              0.7777777777777778,
              "#fb9f3a"
             ],
             [
              0.8888888888888888,
              "#fdca26"
             ],
             [
              1,
              "#f0f921"
             ]
            ],
            "type": "histogram2d"
           }
          ],
          "histogram2dcontour": [
           {
            "colorbar": {
             "outlinewidth": 0,
             "ticks": ""
            },
            "colorscale": [
             [
              0,
              "#0d0887"
             ],
             [
              0.1111111111111111,
              "#46039f"
             ],
             [
              0.2222222222222222,
              "#7201a8"
             ],
             [
              0.3333333333333333,
              "#9c179e"
             ],
             [
              0.4444444444444444,
              "#bd3786"
             ],
             [
              0.5555555555555556,
              "#d8576b"
             ],
             [
              0.6666666666666666,
              "#ed7953"
             ],
             [
              0.7777777777777778,
              "#fb9f3a"
             ],
             [
              0.8888888888888888,
              "#fdca26"
             ],
             [
              1,
              "#f0f921"
             ]
            ],
            "type": "histogram2dcontour"
           }
          ],
          "mesh3d": [
           {
            "colorbar": {
             "outlinewidth": 0,
             "ticks": ""
            },
            "type": "mesh3d"
           }
          ],
          "parcoords": [
           {
            "line": {
             "colorbar": {
              "outlinewidth": 0,
              "ticks": ""
             }
            },
            "type": "parcoords"
           }
          ],
          "pie": [
           {
            "automargin": true,
            "type": "pie"
           }
          ],
          "scatter": [
           {
            "fillpattern": {
             "fillmode": "overlay",
             "size": 10,
             "solidity": 0.2
            },
            "type": "scatter"
           }
          ],
          "scatter3d": [
           {
            "line": {
             "colorbar": {
              "outlinewidth": 0,
              "ticks": ""
             }
            },
            "marker": {
             "colorbar": {
              "outlinewidth": 0,
              "ticks": ""
             }
            },
            "type": "scatter3d"
           }
          ],
          "scattercarpet": [
           {
            "marker": {
             "colorbar": {
              "outlinewidth": 0,
              "ticks": ""
             }
            },
            "type": "scattercarpet"
           }
          ],
          "scattergeo": [
           {
            "marker": {
             "colorbar": {
              "outlinewidth": 0,
              "ticks": ""
             }
            },
            "type": "scattergeo"
           }
          ],
          "scattergl": [
           {
            "marker": {
             "colorbar": {
              "outlinewidth": 0,
              "ticks": ""
             }
            },
            "type": "scattergl"
           }
          ],
          "scattermapbox": [
           {
            "marker": {
             "colorbar": {
              "outlinewidth": 0,
              "ticks": ""
             }
            },
            "type": "scattermapbox"
           }
          ],
          "scatterpolar": [
           {
            "marker": {
             "colorbar": {
              "outlinewidth": 0,
              "ticks": ""
             }
            },
            "type": "scatterpolar"
           }
          ],
          "scatterpolargl": [
           {
            "marker": {
             "colorbar": {
              "outlinewidth": 0,
              "ticks": ""
             }
            },
            "type": "scatterpolargl"
           }
          ],
          "scatterternary": [
           {
            "marker": {
             "colorbar": {
              "outlinewidth": 0,
              "ticks": ""
             }
            },
            "type": "scatterternary"
           }
          ],
          "surface": [
           {
            "colorbar": {
             "outlinewidth": 0,
             "ticks": ""
            },
            "colorscale": [
             [
              0,
              "#0d0887"
             ],
             [
              0.1111111111111111,
              "#46039f"
             ],
             [
              0.2222222222222222,
              "#7201a8"
             ],
             [
              0.3333333333333333,
              "#9c179e"
             ],
             [
              0.4444444444444444,
              "#bd3786"
             ],
             [
              0.5555555555555556,
              "#d8576b"
             ],
             [
              0.6666666666666666,
              "#ed7953"
             ],
             [
              0.7777777777777778,
              "#fb9f3a"
             ],
             [
              0.8888888888888888,
              "#fdca26"
             ],
             [
              1,
              "#f0f921"
             ]
            ],
            "type": "surface"
           }
          ],
          "table": [
           {
            "cells": {
             "fill": {
              "color": "#EBF0F8"
             },
             "line": {
              "color": "white"
             }
            },
            "header": {
             "fill": {
              "color": "#C8D4E3"
             },
             "line": {
              "color": "white"
             }
            },
            "type": "table"
           }
          ]
         },
         "layout": {
          "annotationdefaults": {
           "arrowcolor": "#2a3f5f",
           "arrowhead": 0,
           "arrowwidth": 1
          },
          "autotypenumbers": "strict",
          "coloraxis": {
           "colorbar": {
            "outlinewidth": 0,
            "ticks": ""
           }
          },
          "colorscale": {
           "diverging": [
            [
             0,
             "#8e0152"
            ],
            [
             0.1,
             "#c51b7d"
            ],
            [
             0.2,
             "#de77ae"
            ],
            [
             0.3,
             "#f1b6da"
            ],
            [
             0.4,
             "#fde0ef"
            ],
            [
             0.5,
             "#f7f7f7"
            ],
            [
             0.6,
             "#e6f5d0"
            ],
            [
             0.7,
             "#b8e186"
            ],
            [
             0.8,
             "#7fbc41"
            ],
            [
             0.9,
             "#4d9221"
            ],
            [
             1,
             "#276419"
            ]
           ],
           "sequential": [
            [
             0,
             "#0d0887"
            ],
            [
             0.1111111111111111,
             "#46039f"
            ],
            [
             0.2222222222222222,
             "#7201a8"
            ],
            [
             0.3333333333333333,
             "#9c179e"
            ],
            [
             0.4444444444444444,
             "#bd3786"
            ],
            [
             0.5555555555555556,
             "#d8576b"
            ],
            [
             0.6666666666666666,
             "#ed7953"
            ],
            [
             0.7777777777777778,
             "#fb9f3a"
            ],
            [
             0.8888888888888888,
             "#fdca26"
            ],
            [
             1,
             "#f0f921"
            ]
           ],
           "sequentialminus": [
            [
             0,
             "#0d0887"
            ],
            [
             0.1111111111111111,
             "#46039f"
            ],
            [
             0.2222222222222222,
             "#7201a8"
            ],
            [
             0.3333333333333333,
             "#9c179e"
            ],
            [
             0.4444444444444444,
             "#bd3786"
            ],
            [
             0.5555555555555556,
             "#d8576b"
            ],
            [
             0.6666666666666666,
             "#ed7953"
            ],
            [
             0.7777777777777778,
             "#fb9f3a"
            ],
            [
             0.8888888888888888,
             "#fdca26"
            ],
            [
             1,
             "#f0f921"
            ]
           ]
          },
          "colorway": [
           "#636efa",
           "#EF553B",
           "#00cc96",
           "#ab63fa",
           "#FFA15A",
           "#19d3f3",
           "#FF6692",
           "#B6E880",
           "#FF97FF",
           "#FECB52"
          ],
          "font": {
           "color": "#2a3f5f"
          },
          "geo": {
           "bgcolor": "white",
           "lakecolor": "white",
           "landcolor": "#E5ECF6",
           "showlakes": true,
           "showland": true,
           "subunitcolor": "white"
          },
          "hoverlabel": {
           "align": "left"
          },
          "hovermode": "closest",
          "mapbox": {
           "style": "light"
          },
          "paper_bgcolor": "white",
          "plot_bgcolor": "#E5ECF6",
          "polar": {
           "angularaxis": {
            "gridcolor": "white",
            "linecolor": "white",
            "ticks": ""
           },
           "bgcolor": "#E5ECF6",
           "radialaxis": {
            "gridcolor": "white",
            "linecolor": "white",
            "ticks": ""
           }
          },
          "scene": {
           "xaxis": {
            "backgroundcolor": "#E5ECF6",
            "gridcolor": "white",
            "gridwidth": 2,
            "linecolor": "white",
            "showbackground": true,
            "ticks": "",
            "zerolinecolor": "white"
           },
           "yaxis": {
            "backgroundcolor": "#E5ECF6",
            "gridcolor": "white",
            "gridwidth": 2,
            "linecolor": "white",
            "showbackground": true,
            "ticks": "",
            "zerolinecolor": "white"
           },
           "zaxis": {
            "backgroundcolor": "#E5ECF6",
            "gridcolor": "white",
            "gridwidth": 2,
            "linecolor": "white",
            "showbackground": true,
            "ticks": "",
            "zerolinecolor": "white"
           }
          },
          "shapedefaults": {
           "line": {
            "color": "#2a3f5f"
           }
          },
          "ternary": {
           "aaxis": {
            "gridcolor": "white",
            "linecolor": "white",
            "ticks": ""
           },
           "baxis": {
            "gridcolor": "white",
            "linecolor": "white",
            "ticks": ""
           },
           "bgcolor": "#E5ECF6",
           "caxis": {
            "gridcolor": "white",
            "linecolor": "white",
            "ticks": ""
           }
          },
          "title": {
           "x": 0.05
          },
          "xaxis": {
           "automargin": true,
           "gridcolor": "white",
           "linecolor": "white",
           "ticks": "",
           "title": {
            "standoff": 15
           },
           "zerolinecolor": "white",
           "zerolinewidth": 2
          },
          "yaxis": {
           "automargin": true,
           "gridcolor": "white",
           "linecolor": "white",
           "ticks": "",
           "title": {
            "standoff": 15
           },
           "zerolinecolor": "white",
           "zerolinewidth": 2
          }
         }
        }
       }
      },
      "text/html": [
       "<div>                            <div id=\"8c416f1b-21db-42d4-be2a-1c79d3eecf5b\" class=\"plotly-graph-div\" style=\"height:525px; width:100%;\"></div>            <script type=\"text/javascript\">                require([\"plotly\"], function(Plotly) {                    window.PLOTLYENV=window.PLOTLYENV || {};                                    if (document.getElementById(\"8c416f1b-21db-42d4-be2a-1c79d3eecf5b\")) {                    Plotly.newPlot(                        \"8c416f1b-21db-42d4-be2a-1c79d3eecf5b\",                        [{\"textinfo\":\"value+percent initial\",\"x\":[7419,4593,3734,3539,840],\"y\":[\"MainScreenAppear\",\"OffersScreenAppear\",\"CartScreenAppear\",\"PaymentScreenSuccessful\",\"Tutorial\"],\"type\":\"funnel\"}],                        {\"template\":{\"data\":{\"histogram2dcontour\":[{\"type\":\"histogram2dcontour\",\"colorbar\":{\"outlinewidth\":0,\"ticks\":\"\"},\"colorscale\":[[0.0,\"#0d0887\"],[0.1111111111111111,\"#46039f\"],[0.2222222222222222,\"#7201a8\"],[0.3333333333333333,\"#9c179e\"],[0.4444444444444444,\"#bd3786\"],[0.5555555555555556,\"#d8576b\"],[0.6666666666666666,\"#ed7953\"],[0.7777777777777778,\"#fb9f3a\"],[0.8888888888888888,\"#fdca26\"],[1.0,\"#f0f921\"]]}],\"choropleth\":[{\"type\":\"choropleth\",\"colorbar\":{\"outlinewidth\":0,\"ticks\":\"\"}}],\"histogram2d\":[{\"type\":\"histogram2d\",\"colorbar\":{\"outlinewidth\":0,\"ticks\":\"\"},\"colorscale\":[[0.0,\"#0d0887\"],[0.1111111111111111,\"#46039f\"],[0.2222222222222222,\"#7201a8\"],[0.3333333333333333,\"#9c179e\"],[0.4444444444444444,\"#bd3786\"],[0.5555555555555556,\"#d8576b\"],[0.6666666666666666,\"#ed7953\"],[0.7777777777777778,\"#fb9f3a\"],[0.8888888888888888,\"#fdca26\"],[1.0,\"#f0f921\"]]}],\"heatmap\":[{\"type\":\"heatmap\",\"colorbar\":{\"outlinewidth\":0,\"ticks\":\"\"},\"colorscale\":[[0.0,\"#0d0887\"],[0.1111111111111111,\"#46039f\"],[0.2222222222222222,\"#7201a8\"],[0.3333333333333333,\"#9c179e\"],[0.4444444444444444,\"#bd3786\"],[0.5555555555555556,\"#d8576b\"],[0.6666666666666666,\"#ed7953\"],[0.7777777777777778,\"#fb9f3a\"],[0.8888888888888888,\"#fdca26\"],[1.0,\"#f0f921\"]]}],\"heatmapgl\":[{\"type\":\"heatmapgl\",\"colorbar\":{\"outlinewidth\":0,\"ticks\":\"\"},\"colorscale\":[[0.0,\"#0d0887\"],[0.1111111111111111,\"#46039f\"],[0.2222222222222222,\"#7201a8\"],[0.3333333333333333,\"#9c179e\"],[0.4444444444444444,\"#bd3786\"],[0.5555555555555556,\"#d8576b\"],[0.6666666666666666,\"#ed7953\"],[0.7777777777777778,\"#fb9f3a\"],[0.8888888888888888,\"#fdca26\"],[1.0,\"#f0f921\"]]}],\"contourcarpet\":[{\"type\":\"contourcarpet\",\"colorbar\":{\"outlinewidth\":0,\"ticks\":\"\"}}],\"contour\":[{\"type\":\"contour\",\"colorbar\":{\"outlinewidth\":0,\"ticks\":\"\"},\"colorscale\":[[0.0,\"#0d0887\"],[0.1111111111111111,\"#46039f\"],[0.2222222222222222,\"#7201a8\"],[0.3333333333333333,\"#9c179e\"],[0.4444444444444444,\"#bd3786\"],[0.5555555555555556,\"#d8576b\"],[0.6666666666666666,\"#ed7953\"],[0.7777777777777778,\"#fb9f3a\"],[0.8888888888888888,\"#fdca26\"],[1.0,\"#f0f921\"]]}],\"surface\":[{\"type\":\"surface\",\"colorbar\":{\"outlinewidth\":0,\"ticks\":\"\"},\"colorscale\":[[0.0,\"#0d0887\"],[0.1111111111111111,\"#46039f\"],[0.2222222222222222,\"#7201a8\"],[0.3333333333333333,\"#9c179e\"],[0.4444444444444444,\"#bd3786\"],[0.5555555555555556,\"#d8576b\"],[0.6666666666666666,\"#ed7953\"],[0.7777777777777778,\"#fb9f3a\"],[0.8888888888888888,\"#fdca26\"],[1.0,\"#f0f921\"]]}],\"mesh3d\":[{\"type\":\"mesh3d\",\"colorbar\":{\"outlinewidth\":0,\"ticks\":\"\"}}],\"scatter\":[{\"fillpattern\":{\"fillmode\":\"overlay\",\"size\":10,\"solidity\":0.2},\"type\":\"scatter\"}],\"parcoords\":[{\"type\":\"parcoords\",\"line\":{\"colorbar\":{\"outlinewidth\":0,\"ticks\":\"\"}}}],\"scatterpolargl\":[{\"type\":\"scatterpolargl\",\"marker\":{\"colorbar\":{\"outlinewidth\":0,\"ticks\":\"\"}}}],\"bar\":[{\"error_x\":{\"color\":\"#2a3f5f\"},\"error_y\":{\"color\":\"#2a3f5f\"},\"marker\":{\"line\":{\"color\":\"#E5ECF6\",\"width\":0.5},\"pattern\":{\"fillmode\":\"overlay\",\"size\":10,\"solidity\":0.2}},\"type\":\"bar\"}],\"scattergeo\":[{\"type\":\"scattergeo\",\"marker\":{\"colorbar\":{\"outlinewidth\":0,\"ticks\":\"\"}}}],\"scatterpolar\":[{\"type\":\"scatterpolar\",\"marker\":{\"colorbar\":{\"outlinewidth\":0,\"ticks\":\"\"}}}],\"histogram\":[{\"marker\":{\"pattern\":{\"fillmode\":\"overlay\",\"size\":10,\"solidity\":0.2}},\"type\":\"histogram\"}],\"scattergl\":[{\"type\":\"scattergl\",\"marker\":{\"colorbar\":{\"outlinewidth\":0,\"ticks\":\"\"}}}],\"scatter3d\":[{\"type\":\"scatter3d\",\"line\":{\"colorbar\":{\"outlinewidth\":0,\"ticks\":\"\"}},\"marker\":{\"colorbar\":{\"outlinewidth\":0,\"ticks\":\"\"}}}],\"scattermapbox\":[{\"type\":\"scattermapbox\",\"marker\":{\"colorbar\":{\"outlinewidth\":0,\"ticks\":\"\"}}}],\"scatterternary\":[{\"type\":\"scatterternary\",\"marker\":{\"colorbar\":{\"outlinewidth\":0,\"ticks\":\"\"}}}],\"scattercarpet\":[{\"type\":\"scattercarpet\",\"marker\":{\"colorbar\":{\"outlinewidth\":0,\"ticks\":\"\"}}}],\"carpet\":[{\"aaxis\":{\"endlinecolor\":\"#2a3f5f\",\"gridcolor\":\"white\",\"linecolor\":\"white\",\"minorgridcolor\":\"white\",\"startlinecolor\":\"#2a3f5f\"},\"baxis\":{\"endlinecolor\":\"#2a3f5f\",\"gridcolor\":\"white\",\"linecolor\":\"white\",\"minorgridcolor\":\"white\",\"startlinecolor\":\"#2a3f5f\"},\"type\":\"carpet\"}],\"table\":[{\"cells\":{\"fill\":{\"color\":\"#EBF0F8\"},\"line\":{\"color\":\"white\"}},\"header\":{\"fill\":{\"color\":\"#C8D4E3\"},\"line\":{\"color\":\"white\"}},\"type\":\"table\"}],\"barpolar\":[{\"marker\":{\"line\":{\"color\":\"#E5ECF6\",\"width\":0.5},\"pattern\":{\"fillmode\":\"overlay\",\"size\":10,\"solidity\":0.2}},\"type\":\"barpolar\"}],\"pie\":[{\"automargin\":true,\"type\":\"pie\"}]},\"layout\":{\"autotypenumbers\":\"strict\",\"colorway\":[\"#636efa\",\"#EF553B\",\"#00cc96\",\"#ab63fa\",\"#FFA15A\",\"#19d3f3\",\"#FF6692\",\"#B6E880\",\"#FF97FF\",\"#FECB52\"],\"font\":{\"color\":\"#2a3f5f\"},\"hovermode\":\"closest\",\"hoverlabel\":{\"align\":\"left\"},\"paper_bgcolor\":\"white\",\"plot_bgcolor\":\"#E5ECF6\",\"polar\":{\"bgcolor\":\"#E5ECF6\",\"angularaxis\":{\"gridcolor\":\"white\",\"linecolor\":\"white\",\"ticks\":\"\"},\"radialaxis\":{\"gridcolor\":\"white\",\"linecolor\":\"white\",\"ticks\":\"\"}},\"ternary\":{\"bgcolor\":\"#E5ECF6\",\"aaxis\":{\"gridcolor\":\"white\",\"linecolor\":\"white\",\"ticks\":\"\"},\"baxis\":{\"gridcolor\":\"white\",\"linecolor\":\"white\",\"ticks\":\"\"},\"caxis\":{\"gridcolor\":\"white\",\"linecolor\":\"white\",\"ticks\":\"\"}},\"coloraxis\":{\"colorbar\":{\"outlinewidth\":0,\"ticks\":\"\"}},\"colorscale\":{\"sequential\":[[0.0,\"#0d0887\"],[0.1111111111111111,\"#46039f\"],[0.2222222222222222,\"#7201a8\"],[0.3333333333333333,\"#9c179e\"],[0.4444444444444444,\"#bd3786\"],[0.5555555555555556,\"#d8576b\"],[0.6666666666666666,\"#ed7953\"],[0.7777777777777778,\"#fb9f3a\"],[0.8888888888888888,\"#fdca26\"],[1.0,\"#f0f921\"]],\"sequentialminus\":[[0.0,\"#0d0887\"],[0.1111111111111111,\"#46039f\"],[0.2222222222222222,\"#7201a8\"],[0.3333333333333333,\"#9c179e\"],[0.4444444444444444,\"#bd3786\"],[0.5555555555555556,\"#d8576b\"],[0.6666666666666666,\"#ed7953\"],[0.7777777777777778,\"#fb9f3a\"],[0.8888888888888888,\"#fdca26\"],[1.0,\"#f0f921\"]],\"diverging\":[[0,\"#8e0152\"],[0.1,\"#c51b7d\"],[0.2,\"#de77ae\"],[0.3,\"#f1b6da\"],[0.4,\"#fde0ef\"],[0.5,\"#f7f7f7\"],[0.6,\"#e6f5d0\"],[0.7,\"#b8e186\"],[0.8,\"#7fbc41\"],[0.9,\"#4d9221\"],[1,\"#276419\"]]},\"xaxis\":{\"gridcolor\":\"white\",\"linecolor\":\"white\",\"ticks\":\"\",\"title\":{\"standoff\":15},\"zerolinecolor\":\"white\",\"automargin\":true,\"zerolinewidth\":2},\"yaxis\":{\"gridcolor\":\"white\",\"linecolor\":\"white\",\"ticks\":\"\",\"title\":{\"standoff\":15},\"zerolinecolor\":\"white\",\"automargin\":true,\"zerolinewidth\":2},\"scene\":{\"xaxis\":{\"backgroundcolor\":\"#E5ECF6\",\"gridcolor\":\"white\",\"linecolor\":\"white\",\"showbackground\":true,\"ticks\":\"\",\"zerolinecolor\":\"white\",\"gridwidth\":2},\"yaxis\":{\"backgroundcolor\":\"#E5ECF6\",\"gridcolor\":\"white\",\"linecolor\":\"white\",\"showbackground\":true,\"ticks\":\"\",\"zerolinecolor\":\"white\",\"gridwidth\":2},\"zaxis\":{\"backgroundcolor\":\"#E5ECF6\",\"gridcolor\":\"white\",\"linecolor\":\"white\",\"showbackground\":true,\"ticks\":\"\",\"zerolinecolor\":\"white\",\"gridwidth\":2}},\"shapedefaults\":{\"line\":{\"color\":\"#2a3f5f\"}},\"annotationdefaults\":{\"arrowcolor\":\"#2a3f5f\",\"arrowhead\":0,\"arrowwidth\":1},\"geo\":{\"bgcolor\":\"white\",\"landcolor\":\"#E5ECF6\",\"subunitcolor\":\"white\",\"showland\":true,\"showlakes\":true,\"lakecolor\":\"white\"},\"title\":{\"x\":0.05},\"mapbox\":{\"style\":\"light\"}}}},                        {\"responsive\": true}                    ).then(function(){\n",
       "                            \n",
       "var gd = document.getElementById('8c416f1b-21db-42d4-be2a-1c79d3eecf5b');\n",
       "var x = new MutationObserver(function (mutations, observer) {{\n",
       "        var display = window.getComputedStyle(gd).display;\n",
       "        if (!display || display === 'none') {{\n",
       "            console.log([gd, 'removed!']);\n",
       "            Plotly.purge(gd);\n",
       "            observer.disconnect();\n",
       "        }}\n",
       "}});\n",
       "\n",
       "// Listen for the removal of the full notebook cells\n",
       "var notebookContainer = gd.closest('#notebook-container');\n",
       "if (notebookContainer) {{\n",
       "    x.observe(notebookContainer, {childList: true});\n",
       "}}\n",
       "\n",
       "// Listen for the clearing of the current output cell\n",
       "var outputEl = gd.closest('.output');\n",
       "if (outputEl) {{\n",
       "    x.observe(outputEl, {childList: true});\n",
       "}}\n",
       "\n",
       "                        })                };                });            </script>        </div>"
      ]
     },
     "metadata": {},
     "output_type": "display_data"
    }
   ],
   "source": [
    "n_users = logs['device_id'].nunique() # общее количество пользователей\n",
    "\n",
    "users = get_grouped_data(logs, group_column='event_name',\n",
    "                         value_column='device_id', aggfunc='nunique',\n",
    "                         rename_column='number_of_users'\n",
    "                        )\n",
    "\n",
    "fig = go.Figure(data=[go.Funnel(x=users['number_of_users'], y=users['event_name'],\n",
    "                                textinfo='value+percent initial'\n",
    "                               )\n",
    "                     ]\n",
    "               )\n",
    "\n",
    "fig.show()"
   ]
  },
  {
   "cell_type": "markdown",
   "id": "067919ee",
   "metadata": {},
   "source": [
    "Некоторые пользователи пропускают просмотр главной страницы и сразу переходят к предложению или корзине, почти половина пользователей совершают покупку, а 11% - проходят обучение.\n",
    "\n",
    "##### Воронка событий.\n",
    "\n",
    "Скорее всего воронка выглядит так: главная страница -> страница предложения -> страница корзины -> покупка. Судя по количеству пользователей, обучение не является требованием для какого-либо события и не открывается после выполнения другого события, поэтому оно не входит в воронку."
   ]
  },
  {
   "cell_type": "code",
   "execution_count": 81,
   "id": "6afdb80a",
   "metadata": {},
   "outputs": [],
   "source": [
    "logs = logs.query('event_name != \"Tutorial\"')"
   ]
  },
  {
   "cell_type": "code",
   "execution_count": 84,
   "id": "6cd244d2",
   "metadata": {},
   "outputs": [
    {
     "data": {
      "text/html": [
       "<div>\n",
       "<style scoped>\n",
       "    .dataframe tbody tr th:only-of-type {\n",
       "        vertical-align: middle;\n",
       "    }\n",
       "\n",
       "    .dataframe tbody tr th {\n",
       "        vertical-align: top;\n",
       "    }\n",
       "\n",
       "    .dataframe thead th {\n",
       "        text-align: right;\n",
       "    }\n",
       "</style>\n",
       "<table border=\"1\" class=\"dataframe\">\n",
       "  <thead>\n",
       "    <tr style=\"text-align: right;\">\n",
       "      <th></th>\n",
       "      <th>event_name</th>\n",
       "      <th>number_of_users</th>\n",
       "    </tr>\n",
       "  </thead>\n",
       "  <tbody>\n",
       "    <tr>\n",
       "      <th>1</th>\n",
       "      <td>MainScreenAppear</td>\n",
       "      <td>7419</td>\n",
       "    </tr>\n",
       "    <tr>\n",
       "      <th>2</th>\n",
       "      <td>OffersScreenAppear</td>\n",
       "      <td>4593</td>\n",
       "    </tr>\n",
       "    <tr>\n",
       "      <th>0</th>\n",
       "      <td>CartScreenAppear</td>\n",
       "      <td>3734</td>\n",
       "    </tr>\n",
       "    <tr>\n",
       "      <th>3</th>\n",
       "      <td>PaymentScreenSuccessful</td>\n",
       "      <td>3539</td>\n",
       "    </tr>\n",
       "    <tr>\n",
       "      <th>4</th>\n",
       "      <td>Tutorial</td>\n",
       "      <td>840</td>\n",
       "    </tr>\n",
       "  </tbody>\n",
       "</table>\n",
       "</div>"
      ],
      "text/plain": [
       "                event_name  number_of_users\n",
       "1         MainScreenAppear             7419\n",
       "2       OffersScreenAppear             4593\n",
       "0         CartScreenAppear             3734\n",
       "3  PaymentScreenSuccessful             3539\n",
       "4                 Tutorial              840"
      ]
     },
     "execution_count": 84,
     "metadata": {},
     "output_type": "execute_result"
    }
   ],
   "source": [
    "users"
   ]
  },
  {
   "cell_type": "code",
   "execution_count": 85,
   "id": "45723e22",
   "metadata": {},
   "outputs": [],
   "source": [
    "users['funnel'] = users['number_of_users'] / (users['number_of_users']\n",
    "                                              .shift()\n",
    "                                              .fillna(users['number_of_users'].max()))"
   ]
  },
  {
   "cell_type": "code",
   "execution_count": 87,
   "id": "a00d0b29",
   "metadata": {},
   "outputs": [
    {
     "data": {
      "text/html": [
       "<div>\n",
       "<style scoped>\n",
       "    .dataframe tbody tr th:only-of-type {\n",
       "        vertical-align: middle;\n",
       "    }\n",
       "\n",
       "    .dataframe tbody tr th {\n",
       "        vertical-align: top;\n",
       "    }\n",
       "\n",
       "    .dataframe thead th {\n",
       "        text-align: right;\n",
       "    }\n",
       "</style>\n",
       "<table border=\"1\" class=\"dataframe\">\n",
       "  <thead>\n",
       "    <tr style=\"text-align: right;\">\n",
       "      <th></th>\n",
       "      <th>Событие</th>\n",
       "      <th>Количество пользователей</th>\n",
       "      <th>Доля с предыдущего шага</th>\n",
       "    </tr>\n",
       "  </thead>\n",
       "  <tbody>\n",
       "    <tr>\n",
       "      <th>1</th>\n",
       "      <td>MainScreenAppear</td>\n",
       "      <td>7419</td>\n",
       "      <td>1.000000</td>\n",
       "    </tr>\n",
       "    <tr>\n",
       "      <th>2</th>\n",
       "      <td>OffersScreenAppear</td>\n",
       "      <td>4593</td>\n",
       "      <td>0.619086</td>\n",
       "    </tr>\n",
       "    <tr>\n",
       "      <th>0</th>\n",
       "      <td>CartScreenAppear</td>\n",
       "      <td>3734</td>\n",
       "      <td>0.812976</td>\n",
       "    </tr>\n",
       "    <tr>\n",
       "      <th>3</th>\n",
       "      <td>PaymentScreenSuccessful</td>\n",
       "      <td>3539</td>\n",
       "      <td>0.947777</td>\n",
       "    </tr>\n",
       "    <tr>\n",
       "      <th>4</th>\n",
       "      <td>Tutorial</td>\n",
       "      <td>840</td>\n",
       "      <td>0.237355</td>\n",
       "    </tr>\n",
       "  </tbody>\n",
       "</table>\n",
       "</div>"
      ],
      "text/plain": [
       "                   Событие  Количество пользователей  Доля с предыдущего шага\n",
       "1         MainScreenAppear                      7419                 1.000000\n",
       "2       OffersScreenAppear                      4593                 0.619086\n",
       "0         CartScreenAppear                      3734                 0.812976\n",
       "3  PaymentScreenSuccessful                      3539                 0.947777\n",
       "4                 Tutorial                       840                 0.237355"
      ]
     },
     "execution_count": 87,
     "metadata": {},
     "output_type": "execute_result"
    }
   ],
   "source": [
    "users[['event_name', 'number_of_users', 'funnel']].rename(columns={'event_name': 'Событие', \n",
    "                                                                   'number_of_users': 'Количество пользователей',\n",
    "                                                                   'funnel': 'Доля с предыдущего шага'\n",
    "                                                                  }\n",
    "                                                         )"
   ]
  },
  {
   "cell_type": "markdown",
   "id": "e76427e0",
   "metadata": {},
   "source": [
    "Только 62% пользователей с главной страницы переходят на страницу с предложением. Но 81% из них переходят в карзину, и почти все успешно завершают покупку. То есть больше всего пользователей теряется на переходе на страницу с предложением. Долю пользователей, прошедших с первый по последний шаги, можно посмотреть в предыдущей таблице, или посчитать, перемножив все доли. Около 47% пользователей доходят до покупки."
   ]
  },
  {
   "cell_type": "markdown",
   "id": "35efb5d6",
   "metadata": {},
   "source": [
    "##### Промежуточный вывод:\n",
    "\n",
    "Наиболее частым событием является просмотр главной страницы, наимение - прохождение обучения. Их совершают 117 тысяч и 1 тысячу соответственно, совершивших их пользователей - 7,4 тысячи и 840 соответсвтенно. Воронкой является последовательность событий главная страница -> страница предложения -> страница корзины -> покупка, обучение в воронку не входит. Около 47% пользователей полностью проходят воронку. Большая часть пользователей отпадает перед переходом на страницу с предложением, вероятно следует улучшить то, как пользователей завлекают на эту страницу.\n",
    "\n",
    "#### Шаг 5. Изучение результатов эксперимента. <a class='anchor' id='ab-test'></a>"
   ]
  },
  {
   "cell_type": "code",
   "execution_count": 80,
   "id": "06b47afe",
   "metadata": {},
   "outputs": [
    {
     "data": {
      "text/plain": [
       "exp_id\n",
       "246    2484\n",
       "247    2513\n",
       "248    2537\n",
       "Name: device_id, dtype: int64"
      ]
     },
     "execution_count": 80,
     "metadata": {},
     "output_type": "execute_result"
    }
   ],
   "source": [
    "n_users_in_exp = logs.groupby('exp_id')['device_id'].nunique()\n",
    "n_users_in_exp # сохраним в переменную, чтобы обращатся к ней в дальнейшем"
   ]
  },
  {
   "cell_type": "markdown",
   "id": "3209ab20",
   "metadata": {},
   "source": [
    "Количество пользователей в каждой экспериментальной группе примерно одинаково и равно 2500."
   ]
  },
  {
   "cell_type": "markdown",
   "id": "8fd0f399",
   "metadata": {},
   "source": [
    "##### А/А-тест.\n",
    "\n",
    "Для проверки корректности А/B-теста нужно убедится, что никакой разницы в двух контрольных группах нет. Для этого сравним доли пользователей, которые прошли определенные шаги воронки. Для проверки статистической значимости посчитаем Z-критерий."
   ]
  },
  {
   "cell_type": "code",
   "execution_count": 88,
   "id": "a3420b0d",
   "metadata": {},
   "outputs": [],
   "source": [
    "# Также избавимся от событий обучения\n",
    "logs_246 = logs.query('exp_id == 246') \n",
    "logs_247 = logs.query('exp_id == 247')\n",
    "logs_248 = logs.query('exp_id == 248')"
   ]
  },
  {
   "cell_type": "markdown",
   "id": "169897f3",
   "metadata": {},
   "source": [
    "Для начала сравним сами доли, не прибегая к статистике."
   ]
  },
  {
   "cell_type": "code",
   "execution_count": 91,
   "id": "7335c3d5",
   "metadata": {},
   "outputs": [
    {
     "name": "stdout",
     "output_type": "stream",
     "text": [
      "Шаг воронки - MainScreenAppear.\n",
      "Доля группы 246 - 0.986, доля группы 247 - 0.985.\n",
      "Отношение доли группы 246 к 247 - 0.0011.\n",
      "\n",
      "Шаг воронки - OffersScreenAppear.\n",
      "Доля группы 246 - 0.621, доля группы 247 - 0.605.\n",
      "Отношение доли группы 246 к 247 - 0.0263.\n",
      "\n",
      "Шаг воронки - CartScreenAppear.\n",
      "Доля группы 246 - 0.510, доля группы 247 - 0.493.\n",
      "Отношение доли группы 246 к 247 - 0.0346.\n",
      "\n",
      "Шаг воронки - PaymentScreenSuccessful.\n",
      "Доля группы 246 - 0.483, доля группы 247 - 0.461.\n",
      "Отношение доли группы 246 к 247 - 0.0484.\n",
      "\n"
     ]
    }
   ],
   "source": [
    "for funnel_step in logs['event_name'].unique():\n",
    "    print(f'Шаг воронки - {funnel_step}.')\n",
    "    \n",
    "    prop_246 = logs_246.query('event_name == @funnel_step')['device_id'].nunique() / n_users_in_exp[246]\n",
    "    prop_247 = logs_247.query('event_name == @funnel_step')['device_id'].nunique() / n_users_in_exp[247]\n",
    "    \n",
    "    print(f'Доля группы 246 - {prop_246:.3f}, доля группы 247 - {prop_247:.3f}.')\n",
    "    print(f'Отношение доли группы 246 к 247 - {abs(prop_246 / prop_247 - 1):.4f}.\\n')"
   ]
  },
  {
   "cell_type": "markdown",
   "id": "9de03dfa",
   "metadata": {},
   "source": [
    "Доли отличаются менее чем на 5%. Это небольшое различие, поэтому проверим, является ли оно статистически значимым. \n",
    "\n",
    "Применим Z-тест. Z-критерий равен: \n",
    "\n",
    "$$\n",
    " z = \\frac{P_1 - P_2}{\\sqrt{P(1 - P)(\\frac{1}{n_1} + \\frac{1}{n_2})}}\n",
    "\\\\ где \\ P_1, \\ P_2 \\ - \\ доли \\ в \\ выборках, \\ n_1, \\ n_2 \\ - \\ размер \\ выборок, \\ P \\ - \\ объединенная \\ доля. \n",
    "$$\n",
    "\n",
    "После вычисления Z-критерия, необходимо сравнить его с критическим значением стандартного нормального распределения.\n",
    "\n",
    "Нулевой гипотезой будет отсутствие различия в доле пользователей совершивших определенное действие к общему количеству пользователей,\n",
    "\n",
    "альтернативной - присутствие статистически значимого различия в этих долях.\n",
    "\n",
    "Уровень значимости возьмем 5%. Однако, так как мы сравниваем сразу 8 гипотез попарно, необходимо ввести поправку, поэтому разделим уровень значимости на 4."
   ]
  },
  {
   "cell_type": "code",
   "execution_count": 94,
   "id": "fd0551f7",
   "metadata": {},
   "outputs": [],
   "source": [
    "def z_test(group_log_A, group_log_B, alpha): # производит Z-тест над 2 выборками\n",
    "    for funnel_step in logs['event_name'].unique():\n",
    "        print(f'\\nШаг воронки {funnel_step}.')\n",
    "         \n",
    "        # количество пользователей в группе\n",
    "        n_1 = group_log_A['device_id'].nunique()\n",
    "        n_2 = group_log_B['device_id'].nunique()\n",
    "    \n",
    "        # частота некоторого события в группе\n",
    "        p_1 = group_log_A.query('event_name == @funnel_step')['device_id'].nunique() / n_1\n",
    "        p_2 = group_log_B.query('event_name == @funnel_step')['device_id'].nunique() / n_2\n",
    "    \n",
    "        # общая частота\n",
    "        p = (p_1 * n_1 + p_2 * n_2) / (n_1 + n_2)\n",
    "    \n",
    "        # z-критерий\n",
    "        z = (p_1 - p_2) / np.sqrt(p * (1 - p) * (1 / n_1 + 1 / n_2))\n",
    "    \n",
    "        p_value = (1 - st.norm().cdf(abs(z))) * 2\n",
    "        \n",
    "        print(f'P-значение равно {p_value:.3f}.')\n",
    "        \n",
    "        if p_value < alpha:\n",
    "            print(f'Отвергаем нулевую гипотезу и принимаем альтернативную. {p_value:.3f} < {alpha:.3f}.')\n",
    "        else:\n",
    "            print(f'Не получилось отвергнуть нулевую гипотезу. {p_value:.3f} >= {alpha:.3f}.')"
   ]
  },
  {
   "cell_type": "code",
   "execution_count": 97,
   "id": "af01b875",
   "metadata": {
    "scrolled": true
   },
   "outputs": [
    {
     "name": "stdout",
     "output_type": "stream",
     "text": [
      "\n",
      "Шаг воронки MainScreenAppear.\n",
      "P-значение равно 0.753.\n",
      "Не получилось отвергнуть нулевую гипотезу. 0.753 >= 0.013.\n",
      "\n",
      "Шаг воронки OffersScreenAppear.\n",
      "P-значение равно 0.248.\n",
      "Не получилось отвергнуть нулевую гипотезу. 0.248 >= 0.013.\n",
      "\n",
      "Шаг воронки CartScreenAppear.\n",
      "P-значение равно 0.229.\n",
      "Не получилось отвергнуть нулевую гипотезу. 0.229 >= 0.013.\n",
      "\n",
      "Шаг воронки PaymentScreenSuccessful.\n",
      "P-значение равно 0.114.\n",
      "Не получилось отвергнуть нулевую гипотезу. 0.114 >= 0.013.\n"
     ]
    }
   ],
   "source": [
    "alpha = .05 / 4\n",
    "\n",
    "z_test(logs.query('exp_id == 246'), logs.query('exp_id == 247'), alpha)"
   ]
  },
  {
   "cell_type": "markdown",
   "id": "e04f27fe",
   "metadata": {},
   "source": [
    "Статистический также не подтвердил различие в долях. Значит контрольные группы 246 и 247 действительно равны, все механизмы и расчеты работают корректно, и мы можем приступить к A/B-тесту. Сначала произведем тест на 246 и тестовой 248 группах.\n",
    "\n",
    "Нулевыми гипотезами будут гипотезы об отутствии различия в отношении пользователей совершивших событие,\n",
    "\n",
    "альтернативными - существование статистически значимого различия в долях. \n",
    "\n",
    "5% уровень значимости теперь необходимо уменьшить в 12 раз, так как мы проводим по 4 теста для каждой из контрольных групп, а также с объедененной контрольной группой."
   ]
  },
  {
   "cell_type": "code",
   "execution_count": 98,
   "id": "e2e23cef",
   "metadata": {},
   "outputs": [
    {
     "name": "stdout",
     "output_type": "stream",
     "text": [
      "\n",
      "Шаг воронки MainScreenAppear.\n",
      "P-значение равно 0.339.\n",
      "Не получилось отвергнуть нулевую гипотезу. 0.339 >= 0.006.\n",
      "\n",
      "Шаг воронки OffersScreenAppear.\n",
      "P-значение равно 0.214.\n",
      "Не получилось отвергнуть нулевую гипотезу. 0.214 >= 0.006.\n",
      "\n",
      "Шаг воронки CartScreenAppear.\n",
      "P-значение равно 0.081.\n",
      "Не получилось отвергнуть нулевую гипотезу. 0.081 >= 0.006.\n",
      "\n",
      "Шаг воронки PaymentScreenSuccessful.\n",
      "P-значение равно 0.217.\n",
      "Не получилось отвергнуть нулевую гипотезу. 0.217 >= 0.006.\n"
     ]
    }
   ],
   "source": [
    "alpha = .05 / 9\n",
    "\n",
    "z_test(logs.query('exp_id == 246'), logs.query('exp_id == 248'), alpha)"
   ]
  },
  {
   "cell_type": "markdown",
   "id": "95119efc",
   "metadata": {},
   "source": [
    "Согласно тесту статистически значимого различия в долях между контрольной группой 247 и тестовой 248 нет."
   ]
  },
  {
   "cell_type": "code",
   "execution_count": 99,
   "id": "faf842aa",
   "metadata": {},
   "outputs": [
    {
     "name": "stdout",
     "output_type": "stream",
     "text": [
      "\n",
      "Шаг воронки MainScreenAppear.\n",
      "P-значение равно 0.519.\n",
      "Не получилось отвергнуть нулевую гипотезу. 0.519 >= 0.006.\n",
      "\n",
      "Шаг воронки OffersScreenAppear.\n",
      "P-значение равно 0.933.\n",
      "Не получилось отвергнуть нулевую гипотезу. 0.933 >= 0.006.\n",
      "\n",
      "Шаг воронки CartScreenAppear.\n",
      "P-значение равно 0.588.\n",
      "Не получилось отвергнуть нулевую гипотезу. 0.588 >= 0.006.\n",
      "\n",
      "Шаг воронки PaymentScreenSuccessful.\n",
      "P-значение равно 0.728.\n",
      "Не получилось отвергнуть нулевую гипотезу. 0.728 >= 0.006.\n"
     ]
    }
   ],
   "source": [
    "z_test(logs.query('exp_id == 247'), logs.query('exp_id == 248'), alpha)"
   ]
  },
  {
   "cell_type": "markdown",
   "id": "2ef102a2",
   "metadata": {},
   "source": [
    "Между ними тоже нет различия."
   ]
  },
  {
   "cell_type": "code",
   "execution_count": 101,
   "id": "2ab9a24d",
   "metadata": {},
   "outputs": [
    {
     "name": "stdout",
     "output_type": "stream",
     "text": [
      "\n",
      "Шаг воронки MainScreenAppear.\n",
      "P-значение равно 0.349.\n",
      "Не получилось отвергнуть нулевую гипотезу. 0.349 >= 0.006.\n",
      "\n",
      "Шаг воронки OffersScreenAppear.\n",
      "P-значение равно 0.446.\n",
      "Не получилось отвергнуть нулевую гипотезу. 0.446 >= 0.006.\n",
      "\n",
      "Шаг воронки CartScreenAppear.\n",
      "P-значение равно 0.187.\n",
      "Не получилось отвергнуть нулевую гипотезу. 0.187 >= 0.006.\n",
      "\n",
      "Шаг воронки PaymentScreenSuccessful.\n",
      "P-значение равно 0.611.\n",
      "Не получилось отвергнуть нулевую гипотезу. 0.611 >= 0.006.\n"
     ]
    }
   ],
   "source": [
    "z_test(logs.query('exp_id in [246, 247]'), logs.query('exp_id == 248'), alpha)"
   ]
  },
  {
   "cell_type": "markdown",
   "id": "6e248cf5",
   "metadata": {},
   "source": [
    "И с объедененной тоже.\n",
    "\n",
    "Соответственно можно сделать вывод, что изменение шрифта не повлияло на доли пользователей, переходящих на следующий шаг воронки.\n",
    "\n",
    "#### Результаты исследования и рекомендации: <a class='anchor' id='ending'></a>\n",
    "\n",
    "1. Было произведено следующее:\n",
    "\n",
    "    1. Был определен период теста - с 1го по 7е августа 2019 года.\n",
    "\n",
    "    2. Определены события, состовляющие воронку пользовательских действий, главная страница -> страница предложения -> страница корзины -> успешная покупка.\n",
    "\n",
    "    3. Определено распределение пользователей на каждом событии. Найдено, что большая часть отпадающих пользователей не переходит на страницу предложения.\n",
    "\n",
    "    4. Был произведен А/А-тест, подтвердивший правильность распределения пользователей по группам, позже были проанализированы результаты А/А/В-теста.\n",
    "\n",
    "2. На основе проведенного теста можно сделать следующий вывод: изменение шрифта не привело к статистически значимым различиям в долях пользователей, совершивших событие из воронки, к общему количеству пользователей.\n",
    "\n",
    "3. В ходе исследования было обнаружено, что конверсия из главного экрана в экран предложения наименьшая. Следовательно можно порекомендовать улучшить способы доведения пользователя до этой страницы."
   ]
  }
 ],
 "metadata": {
  "kernelspec": {
   "display_name": "Python 3 (ipykernel)",
   "language": "python",
   "name": "python3"
  },
  "language_info": {
   "codemirror_mode": {
    "name": "ipython",
    "version": 3
   },
   "file_extension": ".py",
   "mimetype": "text/x-python",
   "name": "python",
   "nbconvert_exporter": "python",
   "pygments_lexer": "ipython3",
   "version": "3.9.13"
  }
 },
 "nbformat": 4,
 "nbformat_minor": 5
}
